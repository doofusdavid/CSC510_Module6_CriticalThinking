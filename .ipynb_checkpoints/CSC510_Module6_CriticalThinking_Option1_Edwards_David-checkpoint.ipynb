{
 "cells": [
  {
   "cell_type": "markdown",
   "metadata": {},
   "source": [
    "# Module 6 - Critical Thinking - Option 1\n",
    "## David Edwards\n",
    "### CSC510 - Foundations of Artificial Intelligence\n",
    "### Colorado State University-Global Campus\n",
    "### Dr. Isaac K. Gang\n",
    "### August 29, 2021\n",
    "\n"
   ]
  },
  {
   "cell_type": "markdown",
   "metadata": {},
   "source": [
    "For this assignment, we will be creating a Naive Bayes classifier using Scikit-learn.  \n",
    "\n",
    "First, we need to import relevant functions.  For this case, we are using the dataset on wine that comes with sklearn."
   ]
  },
  {
   "cell_type": "code",
   "execution_count": 31,
   "metadata": {},
   "outputs": [],
   "source": [
    "from sklearn.datasets import load_wine\n",
    "from sklearn.model_selection import train_test_split\n",
    "from sklearn.naive_bayes import GaussianNB"
   ]
  },
  {
   "cell_type": "code",
   "execution_count": 33,
   "metadata": {},
   "outputs": [],
   "source": [
    "wine = load_wine()"
   ]
  },
  {
   "cell_type": "markdown",
   "metadata": {},
   "source": [
    "We'll load the wine dataset which is used to categorize these features into some categories."
   ]
  },
  {
   "cell_type": "code",
   "execution_count": 35,
   "metadata": {},
   "outputs": [
    {
     "data": {
      "text/plain": [
       "['alcohol',\n",
       " 'malic_acid',\n",
       " 'ash',\n",
       " 'alcalinity_of_ash',\n",
       " 'magnesium',\n",
       " 'total_phenols',\n",
       " 'flavanoids',\n",
       " 'nonflavanoid_phenols',\n",
       " 'proanthocyanins',\n",
       " 'color_intensity',\n",
       " 'hue',\n",
       " 'od280/od315_of_diluted_wines',\n",
       " 'proline']"
      ]
     },
     "execution_count": 35,
     "metadata": {},
     "output_type": "execute_result"
    }
   ],
   "source": [
    "wine.feature_names"
   ]
  },
  {
   "cell_type": "markdown",
   "metadata": {},
   "source": [
    "So, given values for each of these features, what are we looking to categorize these wines into?  Red, Rose and White?"
   ]
  },
  {
   "cell_type": "code",
   "execution_count": 37,
   "metadata": {},
   "outputs": [
    {
     "data": {
      "text/plain": [
       "array(['class_0', 'class_1', 'class_2'], dtype='<U7')"
      ]
     },
     "execution_count": 37,
     "metadata": {},
     "output_type": "execute_result"
    }
   ],
   "source": [
    "wine.target_names"
   ]
  },
  {
   "cell_type": "markdown",
   "metadata": {},
   "source": [
    "Oh.  That's not very helpful.  According to [the UCI Machine Learning Repository](https://archive.ics.uci.edu/ml/datasets/wine) these represent wines produced from three different cultivars of grape.  A cultivar represents a plant variety produced by selective breeding. \n",
    "\n",
    "Despite looking into the description of the dataset, I can't find the actual cultivar names. "
   ]
  },
  {
   "cell_type": "code",
   "execution_count": 38,
   "metadata": {},
   "outputs": [
    {
     "data": {
      "text/plain": [
       "(178, 13)"
      ]
     },
     "execution_count": 38,
     "metadata": {},
     "output_type": "execute_result"
    }
   ],
   "source": [
    "wine.data.shape"
   ]
  },
  {
   "cell_type": "markdown",
   "metadata": {},
   "source": [
    "We have 178 records, each with the 13 feature names shown above"
   ]
  },
  {
   "cell_type": "code",
   "execution_count": 42,
   "metadata": {},
   "outputs": [
    {
     "data": {
      "text/plain": [
       "array([[1.423e+01, 1.710e+00, 2.430e+00, 1.560e+01, 1.270e+02, 2.800e+00,\n",
       "        3.060e+00, 2.800e-01, 2.290e+00, 5.640e+00, 1.040e+00, 3.920e+00,\n",
       "        1.065e+03],\n",
       "       [1.320e+01, 1.780e+00, 2.140e+00, 1.120e+01, 1.000e+02, 2.650e+00,\n",
       "        2.760e+00, 2.600e-01, 1.280e+00, 4.380e+00, 1.050e+00, 3.400e+00,\n",
       "        1.050e+03]])"
      ]
     },
     "execution_count": 42,
     "metadata": {},
     "output_type": "execute_result"
    }
   ],
   "source": [
    "wine.data[0:2]"
   ]
  },
  {
   "cell_type": "markdown",
   "metadata": {},
   "source": [
    "Looking at the data shows the values for each of these features.  I only display the first two rows because the numbers don't mean much to me."
   ]
  },
  {
   "cell_type": "code",
   "execution_count": 8,
   "metadata": {},
   "outputs": [],
   "source": [
    "X_train, X_test, y_train, y_test = train_test_split(X, y, test_size=0.5, random_state=0)"
   ]
  },
  {
   "cell_type": "code",
   "execution_count": 20,
   "metadata": {},
   "outputs": [
    {
     "data": {
      "text/plain": [
       "(178, 13)"
      ]
     },
     "execution_count": 20,
     "metadata": {},
     "output_type": "execute_result"
    }
   ],
   "source": [
    "wine = load_wine()"
   ]
  },
  {
   "cell_type": "code",
   "execution_count": 9,
   "metadata": {},
   "outputs": [],
   "source": [
    "gnb = GaussianNB()"
   ]
  },
  {
   "cell_type": "code",
   "execution_count": 25,
   "metadata": {},
   "outputs": [
    {
     "data": {
      "text/plain": [
       "array([[-1.35013778e-10, -2.27256456e+01, -5.97980920e+01],\n",
       "       [-5.11899676e+01, -5.64985747e+01,  0.00000000e+00],\n",
       "       [-3.33505966e+00, -3.62620543e-02, -6.62909269e+01],\n",
       "       [-7.70583597e-12, -2.55889540e+01, -6.71261729e+01],\n",
       "       [-1.32352445e+01, -1.78651607e-06, -2.79861062e+01],\n",
       "       [-1.96603825e+00, -1.50835035e-01, -1.09418057e+02],\n",
       "       [-1.67865721e-12, -2.71124615e+01, -7.09806695e+01],\n",
       "       [-5.23647854e+01, -2.81848753e+01, -5.75539616e-13],\n",
       "       [-2.08193504e+01, -9.08395137e-10, -3.23993725e+01],\n",
       "       [-3.29621299e+01, -5.12715417e-08, -1.67861301e+01],\n",
       "       [-3.39446337e+01, -1.22459955e+01, -4.80432927e-06],\n",
       "       [-6.83900737e+01, -2.56645139e+01, -7.14450721e-12],\n",
       "       [ 0.00000000e+00, -4.80218011e+01, -1.04734637e+02],\n",
       "       [-2.65688517e-02, -3.64127075e+00, -7.55290075e+01],\n",
       "       [-3.76830632e+01, -3.82121484e+01,  0.00000000e+00],\n",
       "       [-2.36963061e+01, -5.11484188e-11, -5.74313673e+01],\n",
       "       [-2.01637107e-09, -2.00219655e+01, -6.61851565e+01],\n",
       "       [ 0.00000000e+00, -7.04632179e+01, -1.37790023e+02],\n",
       "       [-2.59654943e+01, -8.91043355e-01, -5.28018438e-01],\n",
       "       [-3.89022148e-13, -2.85744600e+01, -8.78518838e+01],\n",
       "       [-4.39118144e-02, -3.14744744e+00, -7.16633242e+01],\n",
       "       [-1.75074720e-04, -8.65038524e+00, -3.85363562e+01],\n",
       "       [-7.57846638e-03, -4.88623126e+00, -4.02416966e+01],\n",
       "       [-1.44624677e+01, -5.23636851e-07, -3.94722981e+01],\n",
       "       [-3.80568342e+01, -7.01333156e-06, -1.18677012e+01],\n",
       "       [-1.77343480e+01, -1.98643093e-08, -2.96422912e+01],\n",
       "       [-1.35910068e+01, -1.25170217e-06, -4.44808329e+01],\n",
       "       [-3.04501900e+01, -4.03588274e-12, -2.62508836e+01],\n",
       "       [-2.87146895e+01, -2.21767493e-10, -2.22309258e+01],\n",
       "       [-4.99416146e+01, -4.96068463e+01,  0.00000000e+00],\n",
       "       [-7.77873765e-10, -2.09744567e+01, -6.69838299e+01],\n",
       "       [-1.45661261e-13, -2.95514351e+01, -7.43404904e+01],\n",
       "       [-2.82301761e+01, -2.20076208e-04, -8.42164671e+00],\n",
       "       [-5.16234167e-10, -2.13844580e+01, -4.95091845e+01],\n",
       "       [-3.56692453e-12, -2.63592963e+01, -7.00653008e+01],\n",
       "       [-3.94686347e-06, -1.24425913e+01, -6.41895964e+01],\n",
       "       [-3.63454939e+01, -1.91753311e+01, -4.70175010e-09],\n",
       "       [-3.42913408e+01, -5.03879106e-04, -7.59342612e+00],\n",
       "       [-1.67955843e+01, -5.07890938e-08, -4.71299108e+01],\n",
       "       [-4.48418359e+01, -3.28610748e+01, -5.32907052e-15],\n",
       "       [-1.00840488e-03, -6.89988968e+00, -5.81074608e+01],\n",
       "       [-1.81188398e-13, -2.93372931e+01, -8.60640577e+01],\n",
       "       [-1.49444085e+01, -3.23389504e-07, -4.94925592e+01],\n",
       "       [-2.48478402e+01, -1.32935796e-09, -2.04508080e+01],\n",
       "       [-2.78542648e+01, -1.57029945e-12, -2.78927350e+01],\n",
       "       [-4.05898977e-08, -1.70197467e+01, -5.90144553e+01],\n",
       "       [-5.34284176e+01, -2.49094863e+01, -1.52038382e-11],\n",
       "       [-5.52995834e+00, -3.97404038e-03, -4.45299401e+01],\n",
       "       [-4.04009058e+01, -3.07270341e+01, -4.61852778e-14],\n",
       "       [ 0.00000000e+00, -3.49077011e+01, -7.43113288e+01],\n",
       "       [-4.09333177e+01, -1.51861348e+01, -2.53948416e-07],\n",
       "       [-4.95062152e+01, -2.00100233e+01, -2.04059702e-09],\n",
       "       [-5.05870901e-10, -2.14047403e+01, -7.78046139e+01],\n",
       "       [-2.30862987e+01, -6.84512711e+01, -9.41327016e-11],\n",
       "       [-6.63355522e-08, -1.65285399e+01, -7.94204933e+01],\n",
       "       [-2.12726672e+01, -5.77294657e-10, -3.85768345e+01],\n",
       "       [-5.20889643e+01, -5.87082622e+01,  0.00000000e+00],\n",
       "       [-4.61699912e+01, -1.51765782e+01, -2.56386926e-07],\n",
       "       [-2.59574943e+00, -7.75183482e-02, -5.94508545e+01],\n",
       "       [-4.55864865e+01, -1.58060660e+01, -1.36619526e-07],\n",
       "       [-5.03287681e+01, -4.50792572e+01,  0.00000000e+00],\n",
       "       [-2.72905131e-06, -1.28115579e+01, -4.55150128e+01],\n",
       "       [-3.30141976e+01, -5.56491480e+00, -3.83725970e-03],\n",
       "       [-4.66196662e+01, -1.17155650e+01, -8.16575833e-06],\n",
       "       [-1.45392919e+01, -4.84915258e-07, -4.98816852e+01],\n",
       "       [-3.46247146e+01, -5.68324468e-02, -2.89592952e+00],\n",
       "       [-4.48082542e+01, -1.80978587e+01, -1.38101957e-08],\n",
       "       [-1.19011569e+01, -6.78276848e-06, -2.23724571e+01],\n",
       "       [-1.50812696e-11, -2.49175408e+01, -8.65687476e+01],\n",
       "       [-4.03879286e+01, -6.06448225e-11, -2.35259397e+01],\n",
       "       [-1.24448997e+01, -3.93776298e-06, -6.29870023e+01],\n",
       "       [-3.11933997e+01, -8.28923270e-04, -7.09579740e+00],\n",
       "       [-1.21168123e-01, -2.17054865e+00, -2.85834471e+01],\n",
       "       [ 0.00000000e+00, -4.23889934e+01, -1.16302944e+02],\n",
       "       [-9.68798579e+00, -6.20261321e-05, -5.93608426e+01],\n",
       "       [-1.66500223e-01, -1.87485391e+00, -7.51076309e+01],\n",
       "       [-6.23608223e+01, -4.84901832e+01,  0.00000000e+00],\n",
       "       [-3.36364237e+01, -5.79474140e+01, -3.55271368e-15],\n",
       "       [-2.12833295e+01, -5.71173331e-10, -6.92643270e+01],\n",
       "       [-1.79977019e+01, -1.52650195e-08, -4.40966855e+01],\n",
       "       [-2.70087340e+01, -1.87050375e-12, -3.24305254e+01],\n",
       "       [-4.36534172e+01, -6.06541424e+01,  0.00000000e+00],\n",
       "       [-5.26738348e+01, -1.44057634e+01, -5.54187309e-07],\n",
       "       [-4.12114787e-13, -2.85147396e+01, -9.03913127e+01],\n",
       "       [-6.47536140e+01, -4.28475480e+01,  0.00000000e+00],\n",
       "       [-2.76353141e+01, -1.05515596e-12, -3.04291170e+01],\n",
       "       [-3.10608249e+01, -4.61852778e-14, -3.19832003e+01],\n",
       "       [-2.14138486e+01, -5.52816459e-10, -2.36888088e+01],\n",
       "       [-1.61580068e+01, -9.60874864e-08, -6.77121064e+01]])"
      ]
     },
     "execution_count": 25,
     "metadata": {},
     "output_type": "execute_result"
    }
   ],
   "source": [
    "gnb.fit(X_train, y_train)\n",
    "y_pred = gnb.predict(X_test)\n",
    "y_pred\n",
    "y_prob = gnb.predict_log_proba(X_test)\n",
    "y_prob"
   ]
  },
  {
   "cell_type": "code",
   "execution_count": 11,
   "metadata": {},
   "outputs": [
    {
     "name": "stdout",
     "output_type": "stream",
     "text": [
      "Number of mislabeled points out of a total 89 points : 5\n"
     ]
    }
   ],
   "source": [
    "print(\"Number of mislabeled points out of a total %d points : %d\" % (X_test.shape[0], (y_test != y_pred).sum()))"
   ]
  },
  {
   "cell_type": "code",
   "execution_count": null,
   "metadata": {},
   "outputs": [],
   "source": []
  }
 ],
 "metadata": {
  "kernelspec": {
   "display_name": "Python 3",
   "language": "python",
   "name": "python3"
  },
  "language_info": {
   "codemirror_mode": {
    "name": "ipython",
    "version": 3
   },
   "file_extension": ".py",
   "mimetype": "text/x-python",
   "name": "python",
   "nbconvert_exporter": "python",
   "pygments_lexer": "ipython3",
   "version": "3.7.4"
  }
 },
 "nbformat": 4,
 "nbformat_minor": 4
}
